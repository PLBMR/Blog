{
 "cells": [
  {
   "cell_type": "markdown",
   "metadata": {},
   "source": [
    "# Blog Example Notebook\n",
    "\n",
    "_By [Michael Rosenberg](mailto:mrosenberg@cargurus.com)._\n",
    "\n",
    "_**Description**: Contains examples of some assets we wish to convert for the blog._"
   ]
  },
  {
   "cell_type": "code",
   "execution_count": 18,
   "metadata": {},
   "outputs": [],
   "source": [
    "#imports\n",
    "import pandas as pd\n",
    "import numpy as np\n",
    "import matplotlib.pyplot as plt\n",
    "import seaborn as sns\n",
    "import os\n",
    "\n",
    "#helpers\n",
    "figure_dirname = \"../figures/blog_example_notebook\"\n",
    "if not os.path.isdir(figure_dirname):\n",
    "    os.mkdir(figure_dirname)\n",
    "\n",
    "%matplotlib inline\n",
    "sig_lev = 3\n",
    "fig_width = 8\n",
    "fig_height = 5\n",
    "dpi_lev = 300\n",
    "bin_lev = 10"
   ]
  },
  {
   "cell_type": "markdown",
   "metadata": {},
   "source": [
    "# Generate Data"
   ]
  },
  {
   "cell_type": "code",
   "execution_count": 19,
   "metadata": {},
   "outputs": [],
   "source": [
    "chosen_lambda = 3\n",
    "num_samples = 1000\n",
    "poisson_vec = np.random.poisson(lam = chosen_lambda, size = num_samples)\n",
    "poisson_tup_list = [(i, poisson_vec[i]) for i in range(poisson_vec.shape[0])]\n",
    "poisson_frame = pd.DataFrame(poisson_tup_list, columns = [\"sample_id\", \"obs\"])"
   ]
  },
  {
   "cell_type": "markdown",
   "metadata": {},
   "source": [
    "# Tables"
   ]
  },
  {
   "cell_type": "code",
   "execution_count": 20,
   "metadata": {},
   "outputs": [
    {
     "data": {
      "text/html": [
       "<div>\n",
       "<style scoped>\n",
       "    .dataframe tbody tr th:only-of-type {\n",
       "        vertical-align: middle;\n",
       "    }\n",
       "\n",
       "    .dataframe tbody tr th {\n",
       "        vertical-align: top;\n",
       "    }\n",
       "\n",
       "    .dataframe thead th {\n",
       "        text-align: right;\n",
       "    }\n",
       "</style>\n",
       "<table border=\"1\" class=\"dataframe\">\n",
       "  <thead>\n",
       "    <tr style=\"text-align: right;\">\n",
       "      <th></th>\n",
       "      <th>sample_id</th>\n",
       "      <th>obs</th>\n",
       "    </tr>\n",
       "  </thead>\n",
       "  <tbody>\n",
       "    <tr>\n",
       "      <th>0</th>\n",
       "      <td>0</td>\n",
       "      <td>5</td>\n",
       "    </tr>\n",
       "    <tr>\n",
       "      <th>1</th>\n",
       "      <td>1</td>\n",
       "      <td>2</td>\n",
       "    </tr>\n",
       "    <tr>\n",
       "      <th>2</th>\n",
       "      <td>2</td>\n",
       "      <td>4</td>\n",
       "    </tr>\n",
       "    <tr>\n",
       "      <th>3</th>\n",
       "      <td>3</td>\n",
       "      <td>6</td>\n",
       "    </tr>\n",
       "    <tr>\n",
       "      <th>4</th>\n",
       "      <td>4</td>\n",
       "      <td>5</td>\n",
       "    </tr>\n",
       "  </tbody>\n",
       "</table>\n",
       "</div>"
      ],
      "text/plain": [
       "   sample_id  obs\n",
       "0          0    5\n",
       "1          1    2\n",
       "2          2    4\n",
       "3          3    6\n",
       "4          4    5"
      ]
     },
     "execution_count": 20,
     "metadata": {},
     "output_type": "execute_result"
    }
   ],
   "source": [
    "display_lev = 5\n",
    "poisson_frame.head(display_lev)"
   ]
  },
  {
   "cell_type": "markdown",
   "metadata": {},
   "source": [
    "# Figures"
   ]
  },
  {
   "cell_type": "code",
   "execution_count": 28,
   "metadata": {
    "tags": [
     "hide_input"
    ]
   },
   "outputs": [
    {
     "data": {
      "image/png": "[encoded data removed]",
      "text/plain": [
       "<Figure size 576x360 with 1 Axes>"
      ]
     },
     "metadata": {
      "needs_background": "light"
     },
     "output_type": "display_data"
    }
   ],
   "source": [
    "fig = plt.figure(figsize = (fig_width, fig_height))\n",
    "plt.hist(poisson_frame[\"obs\"], bins = bin_lev)\n",
    "plt.title(\"1000 Samples of $Poisson(\\lambda = 3)$\")\n",
    "plt.xlabel(\"Drawn Observation\")\n",
    "plt.ylabel(\"Count\")\n",
    "plt.savefig(figure_dirname + \"/poisson_example.png\", dpi = dpi_lev)"
   ]
  },
  {
   "cell_type": "markdown",
   "metadata": {},
   "source": [
    "# Equations"
   ]
  },
  {
   "cell_type": "markdown",
   "metadata": {},
   "source": [
    "Jupyter Notebook and JupyterLab support $\\LaTeX$ environments via [MathJax](https://www.mathjax.org) __without additional extensions__. This support includes:"
   ]
  },
  {
   "cell_type": "markdown",
   "metadata": {},
   "source": [
    "* __Inline Math__: `$a^2 + b^2 = c^2$` renders as $a^2 + b^2 = c^2$.\n",
    "\n",
    "* __Display Math__: `$$a^2 + b^2 + c^2$$` renders as\n",
    "\n",
    "$$a^2 + b^2 = c^2$$\n",
    "\n",
    "* __Math Fonts__: `$\\mathbb{R}^d$` renders as $\\mathbb{R}^d$, and `$\\mathcal{L}_x$` renders as $\\mathcal{L}_x$.\n",
    "\n",
    "* __Tagged Display Math__: Typing in\n",
    "\n",
    "```latex\n",
    "$$\n",
    "e^{\\pi i} + 1 = 0 \\tag{1}\n",
    "$$\n",
    "```\n",
    "\n",
    "will render as\n",
    "\n",
    "$$\n",
    "e^{\\pi i} + 1 = 0 \\tag{1}\n",
    "$$\n",
    "\n",
    "* __Array Environments__: Typing in\n",
    "\n",
    "```latex\n",
    "$$\n",
    "\\begin{array}{cc}\n",
    "b&e \\\\\n",
    "a&r\n",
    "\\end{array}\n",
    "$$\n",
    "```\n",
    "\n",
    "will render as\n",
    "\n",
    "$$\n",
    "\\begin{array}{cc}\n",
    "b&e \\\\\n",
    "a&r\n",
    "\\end{array}\n",
    "$$\n",
    "\n",
    "\n",
    "* __Aligned Enviornments__: Typing in\n",
    "\n",
    "```latex\n",
    "$$\n",
    "\\begin{aligned}\n",
    "V[X]&= E[(X - E[X])^2] \\\\\n",
    "    &= E[X^2 - 2XE[X] + (E[X])^2] \\\\\n",
    "    &= E[X^2] - 2E[X]E[X] + (E[X])^2 \\\\\n",
    "    &= E[X^2] - 2(E[X])^2 + (E[X])^2 \\\\\n",
    "    &= E[X^2] - (E[X])^2\n",
    "\\end{aligned}\n",
    "$$\n",
    "```\n",
    "\n",
    "will render as\n",
    "\n",
    "$$\n",
    "\\begin{aligned}\n",
    "V[X]&= E[(X - E[X])^2] \\\\\n",
    "    &= E[X^2 - 2XE[X] + (E[X])^2] \\\\\n",
    "    &= E[X^2] - 2E[X]E[X] + (E[X])^2 \\\\\n",
    "    &= E[X^2] - 2(E[X])^2 + (E[X])^2 \\\\\n",
    "    &= E[X^2] - (E[X])^2\n",
    "\\end{aligned}\n",
    "$$\n",
    "\n",
    "* __And many more__: See the [MathJax Documentation](https://www.mathjax.org) for more details."
   ]
  },
  {
   "cell_type": "markdown",
   "metadata": {},
   "source": [
    "__Note__: While Jupyter renders $\\LaTeX$ via MathJax, The blog renders $\\LaTeX$ via the [KaTeX](https://katex.org) library. All examples displayed above are __supported by both MathJax and KaTeX__. If you are looking to use any $\\LaTeX$ environments outside of the examples above, make sure to confirm their cross-compatibility between MathJax and KaTeX."
   ]
  },
  {
   "cell_type": "code",
   "execution_count": null,
   "metadata": {},
   "outputs": [],
   "source": []
  }
 ],
 "metadata": {
  "kernelspec": {
   "display_name": "Python 3",
   "language": "python",
   "name": "python3"
  },
  "language_info": {
   "codemirror_mode": {
    "name": "ipython",
    "version": 3
   },
   "file_extension": ".py",
   "mimetype": "text/x-python",
   "name": "python",
   "nbconvert_exporter": "python",
   "pygments_lexer": "ipython3",
   "version": "3.6.5"
  }
 },
 "nbformat": 4,
 "nbformat_minor": 2
}
